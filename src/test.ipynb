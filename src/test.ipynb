{
 "cells": [
  {
   "cell_type": "code",
   "execution_count": 1,
   "metadata": {
    "collapsed": true
   },
   "outputs": [
    {
     "data": {
      "text/html": [
       "\n",
       "    <div class=\"bk-root\">\n",
       "        <a href=\"https://bokeh.pydata.org\" target=\"_blank\" class=\"bk-logo bk-logo-small bk-logo-notebook\"></a>\n",
       "        <span id=\"7124ed59-2cd8-4b6f-9d7d-e898b6555876\">Loading BokehJS ...</span>\n",
       "    </div>"
      ],
      "text/plain": [
       "\n",
       "    <div class=\"bk-root\">\n",
       "        <a href=\"https://bokeh.pydata.org\" target=\"_blank\" class=\"bk-logo bk-logo-small bk-logo-notebook\"></a>\n",
       "        <span id=\"7124ed59-2cd8-4b6f-9d7d-e898b6555876\">Loading BokehJS ...</span>\n",
       "    </div>"
      ]
     },
     "execution_count": 0,
     "metadata": {},
     "output_type": "execute_result"
    },
    {
     "data": {
      "text/html": [
       "\n",
       "    <div class=\"bk-root\">\n",
       "        <a href=\"https://bokeh.pydata.org\" target=\"_blank\" class=\"bk-logo bk-logo-small bk-logo-notebook\"></a>\n",
       "        <span id=\"7124ed59-2cd8-4b6f-9d7d-e898b6555876\">Loading BokehJS ...</span>\n",
       "    </div>"
      ],
      "text/plain": [
       "\n",
       "    <div class=\"bk-root\">\n",
       "        <a href=\"https://bokeh.pydata.org\" target=\"_blank\" class=\"bk-logo bk-logo-small bk-logo-notebook\"></a>\n",
       "        <span id=\"7124ed59-2cd8-4b6f-9d7d-e898b6555876\">Loading BokehJS ...</span>\n",
       "    </div>"
      ]
     },
     "execution_count": 0,
     "metadata": {},
     "output_type": "execute_result"
    }
   ],
   "source": [
    "from bokeh.models.tickers import FixedTicker, AdaptiveTicker\n",
    "from bokeh.plotting import figure, output_file, show, ColumnDataSource, curdoc, output_notebook\n",
    "from bokeh.models import CDSView, HoverTool, BoxSelectTool, BoxZoomTool, \\\n",
    "    PanTool, WheelPanTool, WheelZoomTool, ResetTool, UndoTool, RedoTool, \\\n",
    "    ZoomInTool, ZoomOutTool, CrosshairTool, TapTool, Button, Text, DataRange1d\n",
    "from bokeh.models.plots import Plot\n",
    "import math\n",
    "from bokeh.layouts import gridplot, layout, widgetbox\n",
    "from bokeh.events import ButtonClick\n",
    "import sys\n",
    "\n",
    "output_notebook()\n",
    "\n",
    "xdr = DataRange1d()\n",
    "ydr = DataRange1d()\n",
    "p3 = Plot(x_range=xdr, y_range=ydr, plot_width=1000, plot_height=1000)\n",
    "\n",
    "text_raw = dict(xs=[0, 10, 20], ys=[0, 10, 20], text=[\"one\", \"two\", \"three\"])\n",
    "text_CDS = ColumnDataSource(data=text_raw)\n",
    "text = Text(x=\"xs\", y=\"ys\", text=\"text\")\n",
    "p3.add_glyph(text_CDS, text)\n",
    "\n",
    "def callback(buttonclick_event):\n",
    "    button.label = \"jursvbniugsrfg\"\n",
    "    sys.exit()\n",
    "button = Button(label=\"Press Me\")\n",
    "button.label = \"jursg\"\n",
    "button.on_event(ButtonClick, callback)\n",
    "\n",
    "button2 = Button(label=\"Press Me\")\n",
    "button2.label = \"g\"\n",
    "button2.on_event(ButtonClick, callback)\n",
    "\n",
    "button3 = Button(label=\"Press Me\")\n",
    "button3.label = \"gfrrf\"\n",
    "button3.on_event(ButtonClick, callback)\n",
    "\n",
    "\n",
    "\n",
    "\n",
    "layout_ = gridplot([[p3], [button, button2], [button3, button2]])\n",
    "curdoc().add_root(layout_)\n",
    "\n",
    "\n",
    "\n",
    "\n",
    "\n",
    "\n",
    "\n",
    "\n",
    "\n",
    "\n",
    "\n",
    "\n",
    "\n",
    "\n",
    "\n"
   ]
  },
  {
   "cell_type": "code",
   "execution_count": null,
   "metadata": {},
   "outputs": [],
   "source": []
  }
 ],
 "metadata": {
  "kernelspec": {
   "display_name": "Python 2",
   "language": "python",
   "name": "python2"
  },
  "language_info": {
   "codemirror_mode": {
    "name": "ipython",
    "version": 2
   },
   "file_extension": ".py",
   "mimetype": "text/x-python",
   "name": "python",
   "nbconvert_exporter": "python",
   "pygments_lexer": "ipython2",
   "version": "2.7.6"
  }
 },
 "nbformat": 4,
 "nbformat_minor": 0
}
